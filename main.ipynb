{
 "cells": [
  {
   "cell_type": "markdown",
   "metadata": {},
   "source": [
    "## Kalkulator Transformasi 3D"
   ]
  },
  {
   "cell_type": "markdown",
   "metadata": {},
   "source": [
    "### Method\n",
    "- <code>translation(point, tx, ty, tz)</code>\n",
    "- <code>scaling(point, sx, sy, sz)</code>\n",
    "- <code>shearxy(point, shx, shy)</code>\n",
    "- <code>shearyz(point, shy, shz)</code>\n",
    "- <code>shearxz(point, shx, shz)</code>\n",
    "\n",
    "- <code>rotationx(point, angle_cos, angle_sin)</code> \n",
    "- <code>rotationy(point, angle_cos, angle_sin)</code>\n",
    "- <code>rotationz(point, angle_cos, angle_sin)</code><br><br>\n",
    "NOTE : angle_cos and angle_sin remain the same\n",
    "\n",
    "- <code>arb_rotation(point, M, N, angle)</code>"
   ]
  },
  {
   "cell_type": "code",
   "execution_count": 159,
   "metadata": {},
   "outputs": [],
   "source": [
    "from transformation import *"
   ]
  },
  {
   "cell_type": "code",
   "execution_count": 160,
   "metadata": {},
   "outputs": [
    {
     "name": "stdout",
     "output_type": "stream",
     "text": [
      "L: 11.661903789690601\n",
      "V: 10.0\n",
      "A: 6\n",
      "B: 10\n",
      "C: 0\n",
      "Point: [1 1 0 1]\n",
      "Result is [ 3.5        -0.5         5.04975247]\n"
     ]
    }
   ],
   "source": [
    "point = np.array([1,1,0])\n",
    "N = np.array([6,-2,0])\n",
    "M = np.array([12,8,0])\n",
    "\n",
    "result = arb_rotation(point, M, N, 60)\n",
    "print(\"Result is\", result[:-1])"
   ]
  }
 ],
 "metadata": {
  "kernelspec": {
   "display_name": "Python 3",
   "language": "python",
   "name": "python3"
  },
  "language_info": {
   "codemirror_mode": {
    "name": "ipython",
    "version": 3
   },
   "file_extension": ".py",
   "mimetype": "text/x-python",
   "name": "python",
   "nbconvert_exporter": "python",
   "pygments_lexer": "ipython3",
   "version": "3.8.5"
  }
 },
 "nbformat": 4,
 "nbformat_minor": 4
}
