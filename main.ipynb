{
 "cells": [
  {
   "cell_type": "markdown",
   "metadata": {},
   "source": [
    "### Method\n",
    "- <code>translation(point, tx, ty, tz)</code>\n",
    "- <code>scaling(point, sx, sy, sz)</code>\n",
    "- <code>shearxy(point, shx, shy)</code>\n",
    "- <code>shearyz(point, shy, shz)</code>\n",
    "- <code>shearxz(point, shx, shz)</code>\n",
    "- <code>rotationx(point, angle_cos, angle_sin)</code> \n",
    "- <code>rotationy(point, angle_cos, angle_sin)</code>\n",
    "- <code>rotationz(point, angle_cos, angle_sin)</code><br><br>\n",
    "NOTE : angle_cos and angle_sin remain the same\n",
    "\n",
    "- <code>arb_rotation(point, M, N, angle)</code>"
   ]
  },
  {
   "cell_type": "code",
   "execution_count": 19,
   "metadata": {},
   "outputs": [],
   "source": [
    "from transformation import *"
   ]
  },
  {
   "cell_type": "code",
   "execution_count": 24,
   "metadata": {},
   "outputs": [
    {
     "name": "stdout",
     "output_type": "stream",
     "text": [
      "L: 2.8284271247461903\n",
      "V: 2.0\n",
      "A: 2\n",
      "B: 2\n",
      "C: 0\n",
      "Point: [2 3 4 1]\n",
      "Result is [3.48120086 1.51879914 3.81765501]\n"
     ]
    }
   ],
   "source": [
    "point = np.array([2,3,4])\n",
    "N = np.array([1,1,0])\n",
    "M = np.array([3,3,0])\n",
    "\n",
    "print(\"Result is\", Transform.arb_rotation(point, M, N, 30)[:-1])"
   ]
  }
 ],
 "metadata": {
  "kernelspec": {
   "display_name": "Python 3",
   "language": "python",
   "name": "python3"
  },
  "language_info": {
   "codemirror_mode": {
    "name": "ipython",
    "version": 3
   },
   "file_extension": ".py",
   "mimetype": "text/x-python",
   "name": "python",
   "nbconvert_exporter": "python",
   "pygments_lexer": "ipython3",
   "version": "3.8.5"
  }
 },
 "nbformat": 4,
 "nbformat_minor": 4
}
